{
 "cells": [
  {
   "cell_type": "markdown",
   "id": "1ac55614-8f39-4c23-8804-efb2a5a86fc6",
   "metadata": {},
   "source": [
    "RSI Backtest\n",
    "\n",
    "We wanted to see if we could come up with an indicator that would serve as a signal to buy and exit a trade before the market reverses in the short term. Can RSI work to make winning trades? \n",
    "\n",
    "RSI alone won't work to ensure a winning strategy, but it can be matched with the trend of market to choose to short a high close price that is expected to fall based on the RSI (example 2). An of course RSI can also be used to enter and exit the market in an uptrending market cycle. We tested the model on the Nasdaq ProShares UltraPro Short QQQ ETF (SQQQ). The included heatmap shows the ideal RSI that can be used to optimize cumulative returns. In the future, it would be beneficial to be able to calculate RSI in real-time to know when to enter and exit trades. We did try to come up with such data but it required a steep monthly fee on Alpaca. \n",
    "\n",
    "Another option that we explored was to automate trades using webhooks from Tradingview and AWS Lambda to send a JSON response to Alpaca to make a trade. After a lot of work and attemps, it did not function properly. THe Tradingview alerts are initially quite simple, RSI is not an indicator that is available, so it actually would not work as is with our model, but it is possible to program Tradingview with their own programming language Pine Script to use RSI as a signal and to then automate trades. Hopefully in the future these developments can be implemented into our project. "
   ]
  },
  {
   "cell_type": "code",
   "execution_count": 4,
   "id": "fdd78b82-ee7c-4c54-b64a-085c9757be85",
   "metadata": {},
   "outputs": [],
   "source": [
    "from pypfopt.expected_returns import mean_historical_return\n",
    "from pypfopt.risk_models import CovarianceShrinkage\n",
    "from pypfopt.efficient_frontier import EfficientFrontier\n",
    "import os\n",
    "from dotenv import load_dotenv\n",
    "import json\n",
    "import alpaca_trade_api as tradeapi\n",
    "from alpaca_trade_api.rest import REST, TimeFrame\n",
    "import numpy as np\n",
    "import pandas as pd\n",
    "import numba\n",
    "import alpaca\n",
    "from alpaca import trading\n",
    "from alpaca.trading.client import TradingClient\n",
    "\n",
    "from alpaca.trading.requests import MarketOrderRequest\n",
    "from alpaca.trading.enums import OrderSide, TimeInForce\n",
    "import vectorbtpro as vbt\n"
   ]
  },
  {
   "cell_type": "code",
   "execution_count": null,
   "id": "b162090d-a2ff-482d-87d7-a6a8e062be20",
   "metadata": {},
   "outputs": [],
   "source": []
  },
  {
   "cell_type": "code",
   "execution_count": null,
   "id": "48865ed0-e7fd-4735-9c59-26198210b0c2",
   "metadata": {},
   "outputs": [],
   "source": []
  },
  {
   "cell_type": "code",
   "execution_count": null,
   "id": "76b81cbe-e897-4c92-b908-67eb38b1f1f3",
   "metadata": {},
   "outputs": [],
   "source": []
  },
  {
   "cell_type": "code",
   "execution_count": 8,
   "id": "0139bc1f-4869-42a9-813b-c90523a4dd28",
   "metadata": {},
   "outputs": [],
   "source": [
    "API_KEY = os.getenv(\"ALPACA_API_KEY\")\n",
    "API_SECRET = os.getenv(\"ALPACA_SECRET_KEY\")"
   ]
  },
  {
   "cell_type": "code",
   "execution_count": 20,
   "id": "f21d5a45-9457-4edb-94b1-3a558490296e",
   "metadata": {},
   "outputs": [],
   "source": [
    "vbt.AlpacaData.set_custom_settings(\n",
    "    client_config=dict(\n",
    "    api_key=API_KEY,\n",
    "    secret_key=API_SECRET\n",
    "))"
   ]
  },
  {
   "cell_type": "code",
   "execution_count": 6,
   "id": "50041ca9-376e-4594-b93c-2617b3c10c32",
   "metadata": {},
   "outputs": [
    {
     "data": {
      "text/plain": [
       "True"
      ]
     },
     "execution_count": 6,
     "metadata": {},
     "output_type": "execute_result"
    }
   ],
   "source": [
    "load_dotenv()"
   ]
  },
  {
   "cell_type": "code",
   "execution_count": 9,
   "id": "096f2d30-0345-40a3-a769-1f4fb5ffa94e",
   "metadata": {},
   "outputs": [],
   "source": [
    "trading_client = TradingClient(API_KEY, API_SECRET, paper=True)"
   ]
  },
  {
   "cell_type": "code",
   "execution_count": 10,
   "id": "3a708803-0a56-4395-a980-5fa7ad5a630c",
   "metadata": {
    "tags": []
   },
   "outputs": [],
   "source": [
    "api = tradeapi.REST(\n",
    "        API_KEY,\n",
    "        API_SECRET,\n",
    "        api_version=\"v2\")"
   ]
  },
  {
   "cell_type": "code",
   "execution_count": 11,
   "id": "cd75b9a8-277d-4bed-a755-74cd023044cb",
   "metadata": {},
   "outputs": [],
   "source": [
    "tickers = ['SQQQ', 'TQQQ', 'QQQ']"
   ]
  },
  {
   "cell_type": "code",
   "execution_count": null,
   "id": "119689b6-45bf-4032-ad1e-7e655d98cea6",
   "metadata": {},
   "outputs": [],
   "source": [
    "timeframe = \"1Hour\"\n",
    "start_date = pd.Timestamp(\"2022-03-01\", tz=\"America/New_York\").isoformat()\n",
    "end_date = pd.Timestamp(\"2022-10-03\", tz=\"America/New_York\").isoformat()"
   ]
  },
  {
   "cell_type": "code",
   "execution_count": null,
   "id": "91889020-fdc3-498c-b52c-e4c51c560562",
   "metadata": {},
   "outputs": [],
   "source": [
    "ticker_data = api.get_bars(\n",
    "    tickers,\n",
    "    timeframe,\n",
    "    start=start_date,\n",
    "    end=end_date,\n",
    ").df"
   ]
  },
  {
   "cell_type": "code",
   "execution_count": null,
   "id": "ef3ed2f1-ce3d-4a89-8272-dc1359fbdba4",
   "metadata": {},
   "outputs": [],
   "source": [
    "ticker_data"
   ]
  },
  {
   "cell_type": "code",
   "execution_count": null,
   "id": "e2e2a6d5-e59c-4784-927d-78766294f9c2",
   "metadata": {},
   "outputs": [],
   "source": [
    "ticker_data_pivoted = ticker_data.pivot(columns='symbol', values=['close', 'open']\n",
    ")\n",
    "ticker_data_pivoted"
   ]
  },
  {
   "cell_type": "code",
   "execution_count": null,
   "id": "4fc32e19-e71f-4f07-b945-b00acfeadaa7",
   "metadata": {
    "tags": []
   },
   "outputs": [],
   "source": [
    "expected_returns = mean_historical_return(ticker_data_pivoted.get(\"close\"))"
   ]
  },
  {
   "cell_type": "code",
   "execution_count": null,
   "id": "b2d5bcae-8f3e-426a-83c5-648258d55498",
   "metadata": {},
   "outputs": [],
   "source": [
    "expected_returns"
   ]
  },
  {
   "cell_type": "code",
   "execution_count": null,
   "id": "9c1f2535-ca6a-45fa-9343-4a70c56c3013",
   "metadata": {},
   "outputs": [],
   "source": [
    "cov_matrix = CovarianceShrinkage(ticker_data_pivoted.get(\"close\")).ledoit_wolf()"
   ]
  },
  {
   "cell_type": "code",
   "execution_count": null,
   "id": "07a23206-53c9-40b8-b155-03034c914983",
   "metadata": {},
   "outputs": [],
   "source": [
    "cov_matrix"
   ]
  },
  {
   "cell_type": "code",
   "execution_count": null,
   "id": "808c6327-19b1-4c1c-80e1-e34a52aec7bb",
   "metadata": {},
   "outputs": [],
   "source": [
    "optimizer = EfficientFrontier(expected_returns, cov_matrix)"
   ]
  },
  {
   "cell_type": "code",
   "execution_count": null,
   "id": "a57176f2-a965-488b-90ab-c94b1e6613e1",
   "metadata": {},
   "outputs": [],
   "source": [
    "weights = optimizer.max_sharpe()"
   ]
  },
  {
   "cell_type": "code",
   "execution_count": null,
   "id": "cd612955-e841-4b52-b19e-bdadfa211038",
   "metadata": {},
   "outputs": [],
   "source": []
  },
  {
   "cell_type": "code",
   "execution_count": null,
   "id": "617cd57d-87a6-4f0b-bae2-036cb0d0cea9",
   "metadata": {},
   "outputs": [],
   "source": [
    "weights"
   ]
  },
  {
   "cell_type": "code",
   "execution_count": null,
   "id": "23736140-d936-4d7e-8b7e-f5525a03f6bd",
   "metadata": {
    "scrolled": true,
    "tags": []
   },
   "outputs": [],
   "source": []
  },
  {
   "cell_type": "code",
   "execution_count": 82,
   "id": "b75c44f4-5147-4c06-898b-7941f909c503",
   "metadata": {},
   "outputs": [
    {
     "data": {
      "application/vnd.jupyter.widget-view+json": {
       "model_id": "6a8449f9d945433b9dc604642c6bd59a",
       "version_major": 2,
       "version_minor": 0
      },
      "text/plain": [
       "  0%|          | 0/3 [00:00<?, ?it/s]"
      ]
     },
     "metadata": {},
     "output_type": "display_data"
    },
    {
     "name": "stderr",
     "output_type": "stream",
     "text": [
      "/Users/mikecutno/opt/anaconda3/envs/dev/lib/python3.9/site-packages/vectorbtpro/data/base.py:597: UserWarning:\n",
      "\n",
      "Symbols have mismatching index. Setting missing data points to NaN.\n",
      "\n"
     ]
    }
   ],
   "source": [
    "data = vbt.AlpacaData.fetch(\n",
    "    ['SQQQ', 'TQQQ', 'QQQ'],\n",
    "    start=pd.Timestamp(\"2022-09-29\", tz=\"America/New_York\").isoformat(),\n",
    "    end=pd.Timestamp(\"2022-09-30\", tz=\"America/New_York\").isoformat(),\n",
    "    timeframe='1 minute'\n",
    ")"
   ]
  },
  {
   "cell_type": "code",
   "execution_count": null,
   "id": "78788485-520b-439f-99b1-feb5213d50d6",
   "metadata": {},
   "outputs": [],
   "source": []
  },
  {
   "cell_type": "code",
   "execution_count": 83,
   "id": "1d03c219-03ee-4cd1-ba89-667dc2579e87",
   "metadata": {},
   "outputs": [
    {
     "data": {
      "application/vnd.jupyter.widget-view+json": {
       "model_id": "a0dce2992c064162b3b3b9ac4ad23145",
       "version_major": 2,
       "version_minor": 0
      },
      "text/plain": [
       "FigureWidget({\n",
       "    'data': [{'close': array([  nan,   nan,   nan, ..., 57.54, 57.56, 57.6 ]),\n",
       "              'd…"
      ]
     },
     "metadata": {},
     "output_type": "display_data"
    }
   ],
   "source": [
    "data.data['SQQQ'].vbt.ohlcv.plot()"
   ]
  },
  {
   "cell_type": "code",
   "execution_count": 84,
   "id": "e8c5c7d7-d079-4eb8-b5ac-28613627e339",
   "metadata": {},
   "outputs": [
    {
     "data": {
      "application/vnd.jupyter.widget-view+json": {
       "model_id": "3a06d9681fd34ecfb142b310c680e80c",
       "version_major": 2,
       "version_minor": 0
      },
      "text/plain": [
       "FigureWidget({\n",
       "    'data': [{'close': array([279.93, 279.93,    nan, ..., 273.02, 272.99, 272.94]),\n",
       "          …"
      ]
     },
     "metadata": {},
     "output_type": "display_data"
    }
   ],
   "source": [
    "data.data['QQQ'].vbt.ohlcv.plot()\n",
    "\n"
   ]
  },
  {
   "cell_type": "code",
   "execution_count": 85,
   "id": "034ed124-0fa2-4dff-82da-d3c9281e043c",
   "metadata": {},
   "outputs": [
    {
     "data": {
      "application/vnd.jupyter.widget-view+json": {
       "model_id": "cb655f72d14e4122b9345c90354ad312",
       "version_major": 2,
       "version_minor": 0
      },
      "text/plain": [
       "FigureWidget({\n",
       "    'data': [{'close': array([   nan,    nan, 22.2  , ..., 20.591, 20.59 , 20.57 ]),\n",
       "          …"
      ]
     },
     "metadata": {},
     "output_type": "display_data"
    }
   ],
   "source": [
    "data.data['TQQQ'].vbt.ohlcv.plot()\n",
    "\n"
   ]
  },
  {
   "cell_type": "code",
   "execution_count": null,
   "id": "a3d72bee-9236-4c8b-a5c9-bffe60d33f19",
   "metadata": {},
   "outputs": [],
   "source": [
    "#data.data['SPXL'].vbt.ohlcv.plot()"
   ]
  },
  {
   "cell_type": "code",
   "execution_count": null,
   "id": "81fb2e0f-7912-4dd3-a2fd-56f08a641adf",
   "metadata": {},
   "outputs": [],
   "source": [
    "#data.data['SPXU'].vbt.ohlcv.plot()"
   ]
  },
  {
   "cell_type": "code",
   "execution_count": null,
   "id": "9c3294eb-93d4-4d8d-94c9-3dd400bbed5f",
   "metadata": {},
   "outputs": [],
   "source": [
    "#data.data['UPRO'].vbt.ohlcv.plot()"
   ]
  },
  {
   "cell_type": "code",
   "execution_count": null,
   "id": "2ccaf03f-e51f-410e-93f3-3eec56eb00a2",
   "metadata": {},
   "outputs": [],
   "source": [
    "#data.data['SPXS'].vbt.ohlcv.plot()"
   ]
  },
  {
   "cell_type": "code",
   "execution_count": 87,
   "id": "97cee648-6cc2-4ea0-8a56-9f8453b5c2da",
   "metadata": {
    "tags": []
   },
   "outputs": [],
   "source": [
    "#expected_returns_2 = mean_historical_return(data_2.get(\"Close\"))"
   ]
  },
  {
   "cell_type": "code",
   "execution_count": null,
   "id": "b29f5817-c5b6-40bb-be90-415cea0f2dc7",
   "metadata": {
    "tags": []
   },
   "outputs": [],
   "source": [
    "#cov_matrix_2 = CovarianceShrinkage(data_2.get(\"Close\")).ledoit_wolf()"
   ]
  },
  {
   "cell_type": "code",
   "execution_count": null,
   "id": "541f1d41-755f-48a3-adef-69d269e49e77",
   "metadata": {},
   "outputs": [],
   "source": [
    "#optimizer_2 = EfficientFrontier(expected_returns_2, cov_matrix_2)"
   ]
  },
  {
   "cell_type": "code",
   "execution_count": null,
   "id": "ad4db2fb-2905-4224-8cb2-dc6608ee3b78",
   "metadata": {},
   "outputs": [],
   "source": [
    "#weights_2 = optimizer_2.max_sharpe()"
   ]
  },
  {
   "cell_type": "code",
   "execution_count": null,
   "id": "b76e7579-9b7e-4800-b97b-d9b7b9848f99",
   "metadata": {},
   "outputs": [],
   "source": [
    "#weights_2"
   ]
  },
  {
   "cell_type": "code",
   "execution_count": 88,
   "id": "4e386f06-30a5-49c9-ac7a-34b36b500c45",
   "metadata": {},
   "outputs": [
    {
     "name": "stdout",
     "output_type": "stream",
     "text": [
      "<class 'pandas.core.frame.DataFrame'>\n",
      "DatetimeIndex: 1041 entries, 2022-09-29 04:00:00+00:00 to 2022-09-29 23:59:00+00:00\n",
      "Data columns (total 7 columns):\n",
      " #   Column       Non-Null Count  Dtype  \n",
      "---  ------       --------------  -----  \n",
      " 0   Open         979 non-null    float64\n",
      " 1   High         979 non-null    float64\n",
      " 2   Low          979 non-null    float64\n",
      " 3   Close        979 non-null    float64\n",
      " 4   Volume       979 non-null    float64\n",
      " 5   Trade count  979 non-null    float64\n",
      " 6   VWAP         979 non-null    float64\n",
      "dtypes: float64(7)\n",
      "memory usage: 65.1 KB\n"
     ]
    }
   ],
   "source": [
    "data.data['SQQQ'].info()"
   ]
  },
  {
   "cell_type": "code",
   "execution_count": 89,
   "id": "f4c51434-30ad-4912-aee9-89dad09a352f",
   "metadata": {},
   "outputs": [],
   "source": [
    "open_price = data.data['SQQQ'].get('Open')\n",
    "close_price = data.data['SQQQ'].get('Close')\n"
   ]
  },
  {
   "cell_type": "code",
   "execution_count": 90,
   "id": "f5ce3334-38d8-42de-bc3b-f80c13dba9b4",
   "metadata": {},
   "outputs": [
    {
     "data": {
      "text/plain": [
       "<vectorbtpro.indicators.custom.RSI at 0x299abdb50>"
      ]
     },
     "execution_count": 90,
     "metadata": {},
     "output_type": "execute_result"
    }
   ],
   "source": [
    "rsi = vbt.RSI.run(open_price)\n",
    "rsi\n"
   ]
  },
  {
   "cell_type": "code",
   "execution_count": 91,
   "id": "5c547ac1-0458-4605-b867-4bcbe476517b",
   "metadata": {},
   "outputs": [
    {
     "data": {
      "text/plain": [
       "Open time\n",
       "2022-09-29 04:00:00+00:00          NaN\n",
       "2022-09-29 04:03:00+00:00          NaN\n",
       "2022-09-29 04:12:00+00:00          NaN\n",
       "2022-09-29 04:29:00+00:00          NaN\n",
       "2022-09-29 04:35:00+00:00          NaN\n",
       "                               ...    \n",
       "2022-09-29 23:55:00+00:00    38.768153\n",
       "2022-09-29 23:56:00+00:00    41.316143\n",
       "2022-09-29 23:57:00+00:00    39.544051\n",
       "2022-09-29 23:58:00+00:00    42.225994\n",
       "2022-09-29 23:59:00+00:00    43.554202\n",
       "Name: Open, Length: 1041, dtype: float64"
      ]
     },
     "execution_count": 91,
     "metadata": {},
     "output_type": "execute_result"
    }
   ],
   "source": [
    "rsi.rsi"
   ]
  },
  {
   "cell_type": "code",
   "execution_count": null,
   "id": "1cd434ea-3537-4476-b68d-443b1b59f9cf",
   "metadata": {},
   "outputs": [],
   "source": []
  },
  {
   "cell_type": "code",
   "execution_count": 92,
   "id": "d29d952e-c0c7-4847-aff6-49e2846809b3",
   "metadata": {},
   "outputs": [
    {
     "data": {
      "text/plain": [
       "Open time\n",
       "2022-09-29 04:00:00+00:00    False\n",
       "2022-09-29 04:03:00+00:00    False\n",
       "2022-09-29 04:12:00+00:00    False\n",
       "2022-09-29 04:29:00+00:00    False\n",
       "2022-09-29 04:35:00+00:00    False\n",
       "                             ...  \n",
       "2022-09-29 23:55:00+00:00    False\n",
       "2022-09-29 23:56:00+00:00    False\n",
       "2022-09-29 23:57:00+00:00    False\n",
       "2022-09-29 23:58:00+00:00    False\n",
       "2022-09-29 23:59:00+00:00    False\n",
       "Name: Open, Length: 1041, dtype: bool"
      ]
     },
     "execution_count": 92,
     "metadata": {},
     "output_type": "execute_result"
    }
   ],
   "source": [
    "entries = rsi.rsi.vbt.crossed_below(33.5)  \n",
    "entries"
   ]
  },
  {
   "cell_type": "code",
   "execution_count": 93,
   "id": "72e0e5ee-04bc-4acb-962b-c4d41bf9eef3",
   "metadata": {},
   "outputs": [
    {
     "data": {
      "text/plain": [
       "Open time\n",
       "2022-09-29 04:00:00+00:00    False\n",
       "2022-09-29 04:03:00+00:00    False\n",
       "2022-09-29 04:12:00+00:00    False\n",
       "2022-09-29 04:29:00+00:00    False\n",
       "2022-09-29 04:35:00+00:00    False\n",
       "                             ...  \n",
       "2022-09-29 23:55:00+00:00    False\n",
       "2022-09-29 23:56:00+00:00    False\n",
       "2022-09-29 23:57:00+00:00    False\n",
       "2022-09-29 23:58:00+00:00    False\n",
       "2022-09-29 23:59:00+00:00    False\n",
       "Name: Open, Length: 1041, dtype: bool"
      ]
     },
     "execution_count": 93,
     "metadata": {},
     "output_type": "execute_result"
    }
   ],
   "source": [
    "exits = rsi.rsi.vbt.crossed_above(67)\n",
    "exits"
   ]
  },
  {
   "cell_type": "code",
   "execution_count": 94,
   "id": "56e8dc1f-3d7b-4f06-80d1-ecc85363620a",
   "metadata": {},
   "outputs": [
    {
     "data": {
      "application/vnd.jupyter.widget-view+json": {
       "model_id": "2e74d284f6044e83a3d3de5e1be16c47",
       "version_major": 2,
       "version_minor": 0
      },
      "text/plain": [
       "FigureWidget({\n",
       "    'data': [{'line': {'color': '#6ca6cd'},\n",
       "              'mode': 'lines',\n",
       "              'name'…"
      ]
     },
     "metadata": {},
     "output_type": "display_data"
    }
   ],
   "source": [
    "def plot_rsi(rsi, entries, exits):\n",
    "    fig = rsi.plot()\n",
    "    entries.vbt.signals.plot_as_entries(rsi.rsi, fig=fig)  \n",
    "    exits.vbt.signals.plot_as_exits(rsi.rsi, fig=fig)\n",
    "    return fig\n",
    "\n",
    "plot_rsi(rsi, entries, exits)\n"
   ]
  },
  {
   "cell_type": "code",
   "execution_count": 95,
   "id": "cbaefd46-034b-4f0c-ba7e-9829541f1f5a",
   "metadata": {},
   "outputs": [
    {
     "data": {
      "application/vnd.jupyter.widget-view+json": {
       "model_id": "77bf13f1ca474b57882b5e82a5fe769a",
       "version_major": 2,
       "version_minor": 0
      },
      "text/plain": [
       "FigureWidget({\n",
       "    'data': [{'line': {'color': '#6ca6cd'},\n",
       "              'mode': 'lines',\n",
       "              'name'…"
      ]
     },
     "metadata": {},
     "output_type": "display_data"
    }
   ],
   "source": [
    "clean_entries, clean_exits = entries.vbt.signals.clean(exits)  \n",
    "\n",
    "plot_rsi(rsi, clean_entries, clean_exits)\n"
   ]
  },
  {
   "cell_type": "code",
   "execution_count": 96,
   "id": "5ee08f24-0e0c-4abd-b50e-ebffda8731c1",
   "metadata": {},
   "outputs": [
    {
     "data": {
      "text/plain": [
       "<vectorbtpro.portfolio.base.Portfolio at 0x2984b8b50>"
      ]
     },
     "execution_count": 96,
     "metadata": {},
     "output_type": "execute_result"
    }
   ],
   "source": [
    "portfolio_sqqq = vbt.Portfolio.from_signals(\n",
    "    close=close_price,\n",
    "    entries=clean_entries,\n",
    "    exits=clean_exits,\n",
    "    size=5000,\n",
    "    size_type='value',\n",
    "    init_cash='auto'\n",
    ")\n",
    "portfolio_sqqq\n"
   ]
  },
  {
   "cell_type": "code",
   "execution_count": 97,
   "id": "309336c7-7179-4dbe-832a-ee920e74731b",
   "metadata": {},
   "outputs": [],
   "source": [
    "vbt.settings.wrapping['freq'] = '1m'"
   ]
  },
  {
   "cell_type": "code",
   "execution_count": 98,
   "id": "922d52ae-9aec-4ed4-91df-f016e3e724d5",
   "metadata": {},
   "outputs": [
    {
     "data": {
      "text/plain": [
       "Start                         2022-09-29 04:00:00+00:00\n",
       "End                           2022-09-29 23:59:00+00:00\n",
       "Period                                  0 days 17:21:00\n",
       "Start Value                                      5000.0\n",
       "Min Value                                   4950.325145\n",
       "Max Value                                   5254.201467\n",
       "End Value                                   5136.342543\n",
       "Total Return [%]                               2.726851\n",
       "Benchmark Return [%]                           5.668685\n",
       "Total Time Exposure [%]                       41.018252\n",
       "Max Gross Exposure [%]                            100.0\n",
       "Max Drawdown [%]                                2.42343\n",
       "Max Drawdown Duration                   0 days 04:32:00\n",
       "Total Orders                                         11\n",
       "Total Fees Paid                                     0.0\n",
       "Total Trades                                          6\n",
       "Win Rate [%]                                       80.0\n",
       "Best Trade [%]                                 1.544948\n",
       "Worst Trade [%]                               -0.901345\n",
       "Avg Winning Trade [%]                           1.10512\n",
       "Avg Losing Trade [%]                          -0.901345\n",
       "Avg Winning Trade Duration              0 days 00:40:30\n",
       "Avg Losing Trade Duration               0 days 02:29:00\n",
       "Profit Factor                                  4.904314\n",
       "Expectancy                                    35.191347\n",
       "Sharpe Ratio                                  22.761305\n",
       "Calmar Ratio                             5409376.370159\n",
       "Omega Ratio                                    1.150723\n",
       "Sortino Ratio                                 34.104196\n",
       "dtype: object"
      ]
     },
     "execution_count": 98,
     "metadata": {},
     "output_type": "execute_result"
    }
   ],
   "source": [
    "portfolio_sqqq.stats()"
   ]
  },
  {
   "cell_type": "code",
   "execution_count": 99,
   "id": "0d9bf462-739c-4494-a7d8-bb8096a0e2bb",
   "metadata": {},
   "outputs": [
    {
     "data": {
      "application/vnd.jupyter.widget-view+json": {
       "model_id": "505447236a6b40148ddc2c67e73176ea",
       "version_major": 2,
       "version_minor": 0
      },
      "text/plain": [
       "FigureWidget({\n",
       "    'data': [{'legendgroup': '0',\n",
       "              'line': {'color': '#1f77b4'},\n",
       "              'mo…"
      ]
     },
     "metadata": {},
     "output_type": "display_data"
    }
   ],
   "source": [
    "portfolio_sqqq.plot(settings=dict(bm_returns=False))\n"
   ]
  },
  {
   "cell_type": "code",
   "execution_count": 101,
   "id": "2ed7d11c-d0d6-4888-9ab9-e01409a38853",
   "metadata": {},
   "outputs": [],
   "source": [
    "def test_rsi(window=13, wtype=\"wilder\", lower_th=33.5, upper_th=67):\n",
    "    rsi = vbt.RSI.run(open_price, window=window, wtype=wtype)\n",
    "    entries = rsi.rsi_crossed_below(lower_th)\n",
    "    exits = rsi.rsi_crossed_above(upper_th)\n",
    "    portfolio_sqqq = vbt.Portfolio.from_signals(\n",
    "        close=close_price,\n",
    "        entries=entries,\n",
    "        exits=exits,\n",
    "        size=5000,\n",
    "        size_type='value',\n",
    "        init_cash='auto')\n",
    "    return portfolio_sqqq.stats([\n",
    "        'total_return',\n",
    "        'total_trades',\n",
    "        'win_rate',\n",
    "        'expectancy'\n",
    "    ])"
   ]
  },
  {
   "cell_type": "code",
   "execution_count": 102,
   "id": "698bd685-8295-4486-9063-77c4c40ad897",
   "metadata": {},
   "outputs": [
    {
     "data": {
      "text/plain": [
       "Total Return [%]       4.2708\n",
       "Total Trades                8\n",
       "Win Rate [%]        85.714286\n",
       "Expectancy          33.592518\n",
       "dtype: object"
      ]
     },
     "execution_count": 102,
     "metadata": {},
     "output_type": "execute_result"
    }
   ],
   "source": [
    "test_rsi()"
   ]
  },
  {
   "cell_type": "code",
   "execution_count": 103,
   "id": "38f11699-6ce4-4a41-9bd9-15e9de3367e7",
   "metadata": {},
   "outputs": [
    {
     "data": {
      "text/plain": [
       "Total Return [%]    1.376086\n",
       "Total Trades               5\n",
       "Win Rate [%]            75.0\n",
       "Expectancy          27.10462\n",
       "dtype: object"
      ]
     },
     "execution_count": 103,
     "metadata": {},
     "output_type": "execute_result"
    }
   ],
   "source": [
    "test_rsi(lower_th=30, upper_th=70)"
   ]
  },
  {
   "cell_type": "code",
   "execution_count": 104,
   "id": "cb4b5f57-155d-44bd-92bd-01c144fcd1a4",
   "metadata": {},
   "outputs": [
    {
     "data": {
      "text/plain": [
       "Total Return [%]       4.2708\n",
       "Total Trades                8\n",
       "Win Rate [%]        85.714286\n",
       "Expectancy          33.592518\n",
       "dtype: object"
      ]
     },
     "execution_count": 104,
     "metadata": {},
     "output_type": "execute_result"
    }
   ],
   "source": [
    "test_rsi(lower_th=33.5, upper_th=67)"
   ]
  },
  {
   "cell_type": "code",
   "execution_count": null,
   "id": "bbcb7626-15f1-492f-a59e-57ee77e6b962",
   "metadata": {},
   "outputs": [],
   "source": [
    "\n"
   ]
  },
  {
   "cell_type": "code",
   "execution_count": 105,
   "id": "629e41bd-7d5d-40df-a45b-4597ec4d6883",
   "metadata": {},
   "outputs": [],
   "source": [
    "from itertools import product"
   ]
  },
  {
   "cell_type": "code",
   "execution_count": null,
   "id": "600f6fcd-5e83-44bc-905d-41517c854360",
   "metadata": {},
   "outputs": [],
   "source": []
  },
  {
   "cell_type": "code",
   "execution_count": 106,
   "id": "b12f1cb6-36b1-42eb-a6bd-1011766f94e4",
   "metadata": {},
   "outputs": [
    {
     "data": {
      "text/plain": [
       "90"
      ]
     },
     "execution_count": 106,
     "metadata": {},
     "output_type": "execute_result"
    }
   ],
   "source": [
    "lower_ths = range(31, 40)  \n",
    "upper_ths = range(60, 70)  \n",
    "th_combs = list(product(lower_ths, upper_ths))  \n",
    "len(th_combs)"
   ]
  },
  {
   "cell_type": "code",
   "execution_count": 107,
   "id": "a66e4a7f-a286-4257-abdf-9b3dd53c042c",
   "metadata": {},
   "outputs": [],
   "source": [
    "comb_stats = [\n",
    "test_rsi(lower_th=lower_th, upper_th=upper_th)\n",
    "    for lower_th, upper_th in th_combs\n",
    "]  "
   ]
  },
  {
   "cell_type": "code",
   "execution_count": 108,
   "id": "16c67f11-e6ba-4938-8b2b-bd98cb956bb9",
   "metadata": {},
   "outputs": [
    {
     "data": {
      "text/html": [
       "<div>\n",
       "<style scoped>\n",
       "    .dataframe tbody tr th:only-of-type {\n",
       "        vertical-align: middle;\n",
       "    }\n",
       "\n",
       "    .dataframe tbody tr th {\n",
       "        vertical-align: top;\n",
       "    }\n",
       "\n",
       "    .dataframe thead th {\n",
       "        text-align: right;\n",
       "    }\n",
       "</style>\n",
       "<table border=\"1\" class=\"dataframe\">\n",
       "  <thead>\n",
       "    <tr style=\"text-align: right;\">\n",
       "      <th></th>\n",
       "      <th>Total Return [%]</th>\n",
       "      <th>Total Trades</th>\n",
       "      <th>Win Rate [%]</th>\n",
       "      <th>Expectancy</th>\n",
       "    </tr>\n",
       "  </thead>\n",
       "  <tbody>\n",
       "    <tr>\n",
       "      <th>60</th>\n",
       "      <td>0.813910</td>\n",
       "      <td>9</td>\n",
       "      <td>62.500000</td>\n",
       "      <td>8.217877</td>\n",
       "    </tr>\n",
       "    <tr>\n",
       "      <th>61</th>\n",
       "      <td>0.902776</td>\n",
       "      <td>9</td>\n",
       "      <td>62.500000</td>\n",
       "      <td>8.773287</td>\n",
       "    </tr>\n",
       "    <tr>\n",
       "      <th>80</th>\n",
       "      <td>0.935338</td>\n",
       "      <td>10</td>\n",
       "      <td>66.666667</td>\n",
       "      <td>7.979379</td>\n",
       "    </tr>\n",
       "    <tr>\n",
       "      <th>63</th>\n",
       "      <td>0.936426</td>\n",
       "      <td>9</td>\n",
       "      <td>62.500000</td>\n",
       "      <td>8.983601</td>\n",
       "    </tr>\n",
       "    <tr>\n",
       "      <th>62</th>\n",
       "      <td>1.003726</td>\n",
       "      <td>9</td>\n",
       "      <td>62.500000</td>\n",
       "      <td>9.404228</td>\n",
       "    </tr>\n",
       "    <tr>\n",
       "      <th>...</th>\n",
       "      <td>...</td>\n",
       "      <td>...</td>\n",
       "      <td>...</td>\n",
       "      <td>...</td>\n",
       "    </tr>\n",
       "    <tr>\n",
       "      <th>36</th>\n",
       "      <td>4.048351</td>\n",
       "      <td>8</td>\n",
       "      <td>85.714286</td>\n",
       "      <td>33.230855</td>\n",
       "    </tr>\n",
       "    <tr>\n",
       "      <th>37</th>\n",
       "      <td>4.098984</td>\n",
       "      <td>8</td>\n",
       "      <td>85.714286</td>\n",
       "      <td>33.592518</td>\n",
       "    </tr>\n",
       "    <tr>\n",
       "      <th>38</th>\n",
       "      <td>4.121691</td>\n",
       "      <td>8</td>\n",
       "      <td>85.714286</td>\n",
       "      <td>33.754715</td>\n",
       "    </tr>\n",
       "    <tr>\n",
       "      <th>39</th>\n",
       "      <td>4.142698</td>\n",
       "      <td>7</td>\n",
       "      <td>83.333333</td>\n",
       "      <td>41.124847</td>\n",
       "    </tr>\n",
       "    <tr>\n",
       "      <th>34</th>\n",
       "      <td>4.916956</td>\n",
       "      <td>9</td>\n",
       "      <td>87.500000</td>\n",
       "      <td>34.505782</td>\n",
       "    </tr>\n",
       "  </tbody>\n",
       "</table>\n",
       "<p>90 rows × 4 columns</p>\n",
       "</div>"
      ],
      "text/plain": [
       "    Total Return [%]  Total Trades  Win Rate [%]  Expectancy\n",
       "60          0.813910             9     62.500000    8.217877\n",
       "61          0.902776             9     62.500000    8.773287\n",
       "80          0.935338            10     66.666667    7.979379\n",
       "63          0.936426             9     62.500000    8.983601\n",
       "62          1.003726             9     62.500000    9.404228\n",
       "..               ...           ...           ...         ...\n",
       "36          4.048351             8     85.714286   33.230855\n",
       "37          4.098984             8     85.714286   33.592518\n",
       "38          4.121691             8     85.714286   33.754715\n",
       "39          4.142698             7     83.333333   41.124847\n",
       "34          4.916956             9     87.500000   34.505782\n",
       "\n",
       "[90 rows x 4 columns]"
      ]
     },
     "execution_count": 108,
     "metadata": {},
     "output_type": "execute_result"
    }
   ],
   "source": [
    "comb_stats_df = pd.DataFrame(comb_stats)\n",
    "comb_stats_df.sort_values(['Total Return [%]'])"
   ]
  },
  {
   "cell_type": "code",
   "execution_count": 109,
   "id": "157cd0a5-9511-4c0e-9061-68a674da8222",
   "metadata": {},
   "outputs": [
    {
     "data": {
      "text/html": [
       "<div>\n",
       "<style scoped>\n",
       "    .dataframe tbody tr th:only-of-type {\n",
       "        vertical-align: middle;\n",
       "    }\n",
       "\n",
       "    .dataframe tbody tr th {\n",
       "        vertical-align: top;\n",
       "    }\n",
       "\n",
       "    .dataframe thead th {\n",
       "        text-align: right;\n",
       "    }\n",
       "</style>\n",
       "<table border=\"1\" class=\"dataframe\">\n",
       "  <thead>\n",
       "    <tr style=\"text-align: right;\">\n",
       "      <th></th>\n",
       "      <th></th>\n",
       "      <th>Total Return [%]</th>\n",
       "      <th>Total Trades</th>\n",
       "      <th>Win Rate [%]</th>\n",
       "      <th>Expectancy</th>\n",
       "    </tr>\n",
       "    <tr>\n",
       "      <th>lower_th</th>\n",
       "      <th>upper_th</th>\n",
       "      <th></th>\n",
       "      <th></th>\n",
       "      <th></th>\n",
       "      <th></th>\n",
       "    </tr>\n",
       "  </thead>\n",
       "  <tbody>\n",
       "    <tr>\n",
       "      <th rowspan=\"2\" valign=\"top\">37</th>\n",
       "      <th>60</th>\n",
       "      <td>0.813910</td>\n",
       "      <td>9</td>\n",
       "      <td>62.500000</td>\n",
       "      <td>8.217877</td>\n",
       "    </tr>\n",
       "    <tr>\n",
       "      <th>61</th>\n",
       "      <td>0.902776</td>\n",
       "      <td>9</td>\n",
       "      <td>62.500000</td>\n",
       "      <td>8.773287</td>\n",
       "    </tr>\n",
       "    <tr>\n",
       "      <th>39</th>\n",
       "      <th>60</th>\n",
       "      <td>0.935338</td>\n",
       "      <td>10</td>\n",
       "      <td>66.666667</td>\n",
       "      <td>7.979379</td>\n",
       "    </tr>\n",
       "    <tr>\n",
       "      <th rowspan=\"2\" valign=\"top\">37</th>\n",
       "      <th>63</th>\n",
       "      <td>0.936426</td>\n",
       "      <td>9</td>\n",
       "      <td>62.500000</td>\n",
       "      <td>8.983601</td>\n",
       "    </tr>\n",
       "    <tr>\n",
       "      <th>62</th>\n",
       "      <td>1.003726</td>\n",
       "      <td>9</td>\n",
       "      <td>62.500000</td>\n",
       "      <td>9.404228</td>\n",
       "    </tr>\n",
       "    <tr>\n",
       "      <th>...</th>\n",
       "      <th>...</th>\n",
       "      <td>...</td>\n",
       "      <td>...</td>\n",
       "      <td>...</td>\n",
       "      <td>...</td>\n",
       "    </tr>\n",
       "    <tr>\n",
       "      <th rowspan=\"5\" valign=\"top\">34</th>\n",
       "      <th>66</th>\n",
       "      <td>4.048351</td>\n",
       "      <td>8</td>\n",
       "      <td>85.714286</td>\n",
       "      <td>33.230855</td>\n",
       "    </tr>\n",
       "    <tr>\n",
       "      <th>67</th>\n",
       "      <td>4.098984</td>\n",
       "      <td>8</td>\n",
       "      <td>85.714286</td>\n",
       "      <td>33.592518</td>\n",
       "    </tr>\n",
       "    <tr>\n",
       "      <th>68</th>\n",
       "      <td>4.121691</td>\n",
       "      <td>8</td>\n",
       "      <td>85.714286</td>\n",
       "      <td>33.754715</td>\n",
       "    </tr>\n",
       "    <tr>\n",
       "      <th>69</th>\n",
       "      <td>4.142698</td>\n",
       "      <td>7</td>\n",
       "      <td>83.333333</td>\n",
       "      <td>41.124847</td>\n",
       "    </tr>\n",
       "    <tr>\n",
       "      <th>64</th>\n",
       "      <td>4.916956</td>\n",
       "      <td>9</td>\n",
       "      <td>87.500000</td>\n",
       "      <td>34.505782</td>\n",
       "    </tr>\n",
       "  </tbody>\n",
       "</table>\n",
       "<p>90 rows × 4 columns</p>\n",
       "</div>"
      ],
      "text/plain": [
       "                   Total Return [%]  Total Trades  Win Rate [%]  Expectancy\n",
       "lower_th upper_th                                                          \n",
       "37       60                0.813910             9     62.500000    8.217877\n",
       "         61                0.902776             9     62.500000    8.773287\n",
       "39       60                0.935338            10     66.666667    7.979379\n",
       "37       63                0.936426             9     62.500000    8.983601\n",
       "         62                1.003726             9     62.500000    9.404228\n",
       "...                             ...           ...           ...         ...\n",
       "34       66                4.048351             8     85.714286   33.230855\n",
       "         67                4.098984             8     85.714286   33.592518\n",
       "         68                4.121691             8     85.714286   33.754715\n",
       "         69                4.142698             7     83.333333   41.124847\n",
       "         64                4.916956             9     87.500000   34.505782\n",
       "\n",
       "[90 rows x 4 columns]"
      ]
     },
     "execution_count": 109,
     "metadata": {},
     "output_type": "execute_result"
    }
   ],
   "source": [
    "comb_stats_df.index = pd.MultiIndex.from_tuples(\n",
    "    th_combs,\n",
    "    names=['lower_th', 'upper_th'])\n",
    "comb_stats_df.sort_values(['Total Return [%]'])"
   ]
  },
  {
   "cell_type": "code",
   "execution_count": 110,
   "id": "0852c21e-a164-4582-80f2-65f1a042f00f",
   "metadata": {},
   "outputs": [
    {
     "data": {
      "application/vnd.jupyter.widget-view+json": {
       "model_id": "dc8eed09a2da46f9a262d559cc23f35a",
       "version_major": 2,
       "version_minor": 0
      },
      "text/plain": [
       "FigureWidget({\n",
       "    'data': [{'colorscale': [[0.0, '#0d0887'], [0.1111111111111111, '#46039f'],\n",
       "               …"
      ]
     },
     "metadata": {},
     "output_type": "display_data"
    }
   ],
   "source": [
    "comb_stats_df['Total Return [%]'].vbt.heatmap()"
   ]
  },
  {
   "cell_type": "markdown",
   "id": "bc822403-5f46-42ee-9421-3d8e5b6dbf9c",
   "metadata": {},
   "source": [
    "Test on the previous day 10/3/22 with the same RSI indicators, except this is to short SQQQ. \n",
    "\n",
    "The short happens here, and is baked into the vbt module: \n",
    "\n",
    "portfolio_sqqq_2 = vbt.Portfolio.from_signals(\n",
    "    close=close_price_2,\n",
    "    short_entries=clean_entries_2,\n",
    "    short_exits=clean_exits_2,\n",
    "    size=5000,\n",
    "    size_type='value',\n",
    "    init_cash='auto'\n",
    ")\n"
   ]
  },
  {
   "cell_type": "code",
   "execution_count": 112,
   "id": "f0649564-8ba5-4351-97d2-28071b9e883f",
   "metadata": {},
   "outputs": [
    {
     "data": {
      "application/vnd.jupyter.widget-view+json": {
       "model_id": "92dc967927274fee84d3ef2389ef1f4a",
       "version_major": 2,
       "version_minor": 0
      },
      "text/plain": [
       "  0%|          | 0/3 [00:00<?, ?it/s]"
      ]
     },
     "metadata": {},
     "output_type": "display_data"
    },
    {
     "name": "stderr",
     "output_type": "stream",
     "text": [
      "/Users/mikecutno/opt/anaconda3/envs/dev/lib/python3.9/site-packages/vectorbtpro/data/base.py:597: UserWarning:\n",
      "\n",
      "Symbols have mismatching index. Setting missing data points to NaN.\n",
      "\n"
     ]
    }
   ],
   "source": [
    "data_2 = vbt.AlpacaData.fetch(\n",
    "    ['SQQQ','QQQ','TQQQ'],\n",
    "    start=\"2022-10-03 UTC\",\n",
    "    end=\"2022-10-04 UTC\",\n",
    "    timeframe=\"1 minute\"\n",
    ")\n",
    "\n"
   ]
  },
  {
   "cell_type": "code",
   "execution_count": 113,
   "id": "d7e00331-1c92-4168-b0be-0babd7cdd13a",
   "metadata": {},
   "outputs": [
    {
     "data": {
      "application/vnd.jupyter.widget-view+json": {
       "model_id": "3c440c2bcbbd4acca36244b0329f05ff",
       "version_major": 2,
       "version_minor": 0
      },
      "text/plain": [
       "FigureWidget({\n",
       "    'data': [{'close': array([  nan,   nan,   nan, ..., 56.21, 56.23, 56.14]),\n",
       "              'd…"
      ]
     },
     "metadata": {},
     "output_type": "display_data"
    }
   ],
   "source": [
    "data_2.data['SQQQ'].vbt.ohlcv.plot()"
   ]
  },
  {
   "cell_type": "code",
   "execution_count": 114,
   "id": "801ea8f4-e3c8-4b45-bf37-cb8e8b1c64f6",
   "metadata": {},
   "outputs": [],
   "source": [
    "open_price_2 = data_2.data['SQQQ'].get('Open')\n",
    "close_price_2 = data_2.data['SQQQ'].get('Close')"
   ]
  },
  {
   "cell_type": "code",
   "execution_count": 115,
   "id": "d7f2442b-545c-47f6-be16-1e91bf4767cf",
   "metadata": {},
   "outputs": [
    {
     "data": {
      "text/plain": [
       "<vectorbtpro.indicators.custom.RSI at 0x29f786d00>"
      ]
     },
     "execution_count": 115,
     "metadata": {},
     "output_type": "execute_result"
    }
   ],
   "source": [
    "rsi_2 = vbt.RSI.run(open_price_2)\n",
    "rsi_2"
   ]
  },
  {
   "cell_type": "code",
   "execution_count": 116,
   "id": "323a4b6e-326c-4fca-8b47-cd9444503e3c",
   "metadata": {},
   "outputs": [
    {
     "data": {
      "text/plain": [
       "Open time\n",
       "2022-10-03 04:00:00+00:00          NaN\n",
       "2022-10-03 04:07:00+00:00          NaN\n",
       "2022-10-03 04:09:00+00:00          NaN\n",
       "2022-10-03 04:10:00+00:00          NaN\n",
       "2022-10-03 04:11:00+00:00          NaN\n",
       "                               ...    \n",
       "2022-10-03 23:55:00+00:00    47.456023\n",
       "2022-10-03 23:56:00+00:00    43.377368\n",
       "2022-10-03 23:57:00+00:00    47.052849\n",
       "2022-10-03 23:58:00+00:00    44.957669\n",
       "2022-10-03 23:59:00+00:00    43.904971\n",
       "Name: Open, Length: 1049, dtype: float64"
      ]
     },
     "execution_count": 116,
     "metadata": {},
     "output_type": "execute_result"
    }
   ],
   "source": [
    "rsi_2.rsi"
   ]
  },
  {
   "cell_type": "code",
   "execution_count": 117,
   "id": "2b17dd2d-f22b-4615-b24c-a2de4e8fb8fa",
   "metadata": {},
   "outputs": [
    {
     "data": {
      "text/plain": [
       "Open time\n",
       "2022-10-03 04:00:00+00:00    False\n",
       "2022-10-03 04:07:00+00:00    False\n",
       "2022-10-03 04:09:00+00:00    False\n",
       "2022-10-03 04:10:00+00:00    False\n",
       "2022-10-03 04:11:00+00:00    False\n",
       "                             ...  \n",
       "2022-10-03 23:55:00+00:00    False\n",
       "2022-10-03 23:56:00+00:00    False\n",
       "2022-10-03 23:57:00+00:00    False\n",
       "2022-10-03 23:58:00+00:00    False\n",
       "2022-10-03 23:59:00+00:00    False\n",
       "Name: Open, Length: 1049, dtype: bool"
      ]
     },
     "execution_count": 117,
     "metadata": {},
     "output_type": "execute_result"
    }
   ],
   "source": [
    "entries_2 = rsi_2.rsi.vbt.crossed_below(38)  \n",
    "entries_2"
   ]
  },
  {
   "cell_type": "code",
   "execution_count": 118,
   "id": "261c78d7-8ebc-497b-9da9-30728e639731",
   "metadata": {},
   "outputs": [
    {
     "data": {
      "text/plain": [
       "Open time\n",
       "2022-10-03 04:00:00+00:00    False\n",
       "2022-10-03 04:07:00+00:00    False\n",
       "2022-10-03 04:09:00+00:00    False\n",
       "2022-10-03 04:10:00+00:00    False\n",
       "2022-10-03 04:11:00+00:00    False\n",
       "                             ...  \n",
       "2022-10-03 23:55:00+00:00    False\n",
       "2022-10-03 23:56:00+00:00    False\n",
       "2022-10-03 23:57:00+00:00    False\n",
       "2022-10-03 23:58:00+00:00    False\n",
       "2022-10-03 23:59:00+00:00    False\n",
       "Name: Open, Length: 1049, dtype: bool"
      ]
     },
     "execution_count": 118,
     "metadata": {},
     "output_type": "execute_result"
    }
   ],
   "source": [
    "exits_2 = rsi_2.rsi.vbt.crossed_above(67)\n",
    "exits_2"
   ]
  },
  {
   "cell_type": "code",
   "execution_count": null,
   "id": "8eb80cb0-781f-4d2f-ab51-f64ab1a29989",
   "metadata": {},
   "outputs": [],
   "source": []
  },
  {
   "cell_type": "code",
   "execution_count": 119,
   "id": "c328fc58-da36-43f0-9618-287685288cb3",
   "metadata": {},
   "outputs": [
    {
     "data": {
      "application/vnd.jupyter.widget-view+json": {
       "model_id": "3998d5bafd4b49329237c73f65660495",
       "version_major": 2,
       "version_minor": 0
      },
      "text/plain": [
       "FigureWidget({\n",
       "    'data': [{'line': {'color': '#6ca6cd'},\n",
       "              'mode': 'lines',\n",
       "              'name'…"
      ]
     },
     "metadata": {},
     "output_type": "display_data"
    }
   ],
   "source": [
    "def plot_rsi(rsi_2, entries_2, exits_2):\n",
    "    fig = rsi_2.plot()\n",
    "    entries_2.vbt.signals.plot_as_entries(rsi_2.rsi, fig=fig)  \n",
    "    exits_2.vbt.signals.plot_as_exits(rsi_2.rsi, fig=fig)\n",
    "    return fig\n",
    "\n",
    "plot_rsi(rsi_2, entries_2, exits_2)"
   ]
  },
  {
   "cell_type": "code",
   "execution_count": 120,
   "id": "b91a1d20-bf91-4660-9b89-e3d1dfb0f744",
   "metadata": {},
   "outputs": [
    {
     "data": {
      "application/vnd.jupyter.widget-view+json": {
       "model_id": "a0fcb4b600c64d89a6df9b0952e7d069",
       "version_major": 2,
       "version_minor": 0
      },
      "text/plain": [
       "FigureWidget({\n",
       "    'data': [{'line': {'color': '#6ca6cd'},\n",
       "              'mode': 'lines',\n",
       "              'name'…"
      ]
     },
     "metadata": {},
     "output_type": "display_data"
    }
   ],
   "source": [
    "clean_entries_2, clean_exits_2 = entries_2.vbt.signals.clean(exits_2)  \n",
    "\n",
    "plot_rsi(rsi_2, clean_entries_2, clean_exits_2)\n",
    "\n"
   ]
  },
  {
   "cell_type": "code",
   "execution_count": null,
   "id": "6bb44038-954e-433c-a759-334ae8f3af19",
   "metadata": {},
   "outputs": [],
   "source": []
  },
  {
   "cell_type": "code",
   "execution_count": 121,
   "id": "736c8346-cccd-495a-a5b5-bfc9df4d317e",
   "metadata": {},
   "outputs": [],
   "source": [
    "portfolio_sqqq_2 = vbt.Portfolio.from_signals(\n",
    "    close=close_price_2,\n",
    "    short_entries=clean_entries_2,\n",
    "    short_exits=clean_exits_2,\n",
    "    size=5000,\n",
    "    size_type='value',\n",
    "    init_cash='auto'\n",
    ")\n",
    "\n"
   ]
  },
  {
   "cell_type": "code",
   "execution_count": 122,
   "id": "98b6ff7d-e402-4827-90ff-c8fcee15c009",
   "metadata": {},
   "outputs": [
    {
     "data": {
      "text/plain": [
       "<vectorbtpro.portfolio.base.Portfolio at 0x29f7a13a0>"
      ]
     },
     "execution_count": 122,
     "metadata": {},
     "output_type": "execute_result"
    }
   ],
   "source": [
    "portfolio_sqqq_2"
   ]
  },
  {
   "cell_type": "code",
   "execution_count": 123,
   "id": "f9803019-ddb4-4000-bded-2f1055f6f15d",
   "metadata": {},
   "outputs": [
    {
     "data": {
      "text/plain": [
       "Start                         2022-10-03 04:00:00+00:00\n",
       "End                           2022-10-03 23:59:00+00:00\n",
       "Period                                  0 days 17:29:00\n",
       "Start Value                                      5000.0\n",
       "Min Value                                   4995.970991\n",
       "Max Value                                   5430.698998\n",
       "End Value                                    5429.81623\n",
       "Total Return [%]                               8.596325\n",
       "Benchmark Return [%]                          -9.742765\n",
       "Total Time Exposure [%]                       64.728313\n",
       "Max Gross Exposure [%]                        108.53155\n",
       "Max Drawdown [%]                               2.306613\n",
       "Max Drawdown Duration                   0 days 04:51:00\n",
       "Total Orders                                          9\n",
       "Total Fees Paid                                     0.0\n",
       "Total Trades                                          5\n",
       "Win Rate [%]                                       75.0\n",
       "Best Trade [%]                                 3.379488\n",
       "Worst Trade [%]                               -0.123719\n",
       "Avg Winning Trade [%]                          2.612425\n",
       "Avg Losing Trade [%]                          -0.123719\n",
       "Avg Winning Trade Duration              0 days 03:03:40\n",
       "Avg Losing Trade Duration               0 days 01:11:00\n",
       "Profit Factor                                 63.347573\n",
       "Expectancy                                    96.419453\n",
       "Sharpe Ratio                                  48.965133\n",
       "Calmar Ratio                       210887543307918240.0\n",
       "Omega Ratio                                    1.269174\n",
       "Sortino Ratio                                 77.946552\n",
       "dtype: object"
      ]
     },
     "execution_count": 123,
     "metadata": {},
     "output_type": "execute_result"
    }
   ],
   "source": [
    "portfolio_sqqq_2.stats()"
   ]
  },
  {
   "cell_type": "code",
   "execution_count": 124,
   "id": "e088bcb4-8619-406d-9f25-649275b6d190",
   "metadata": {},
   "outputs": [],
   "source": [
    "def test_rsi_2(window=13, wtype=\"wilder\", lower_th=29, upper_th=70):\n",
    "    rsi = vbt.RSI.run(open_price_2, window=window, wtype=wtype)\n",
    "    entries_2 = rsi_2.rsi_crossed_below(lower_th)\n",
    "    exits_2 = rsi_2.rsi_crossed_above(upper_th)\n",
    "    portfolio_sqqq_2 = vbt.Portfolio.from_signals(\n",
    "        close=close_price_2,\n",
    "        short_entries=entries_2,\n",
    "        short_exits=exits_2,\n",
    "        size=5000,\n",
    "        size_type='value',\n",
    "        init_cash='auto')\n",
    "    return portfolio_sqqq_2.stats([\n",
    "        'total_return',\n",
    "        'total_trades',\n",
    "        'win_rate',\n",
    "        'expectancy'\n",
    "    ])"
   ]
  },
  {
   "cell_type": "code",
   "execution_count": null,
   "id": "ad324a13-902d-48a9-ae04-c3d85979c900",
   "metadata": {},
   "outputs": [],
   "source": [
    "\n"
   ]
  },
  {
   "cell_type": "code",
   "execution_count": 125,
   "id": "ac1827ee-c4a2-4694-8090-ea34f63f744a",
   "metadata": {},
   "outputs": [
    {
     "data": {
      "text/plain": [
       "Total Return [%]     4.845938\n",
       "Total Trades                4\n",
       "Win Rate [%]            100.0\n",
       "Expectancy          70.146157\n",
       "dtype: object"
      ]
     },
     "execution_count": 125,
     "metadata": {},
     "output_type": "execute_result"
    }
   ],
   "source": [
    "test_rsi_2()"
   ]
  },
  {
   "cell_type": "code",
   "execution_count": 126,
   "id": "e708bf69-6c18-4554-adbb-ace10e833788",
   "metadata": {
    "tags": []
   },
   "outputs": [
    {
     "data": {
      "text/plain": [
       "90"
      ]
     },
     "execution_count": 126,
     "metadata": {},
     "output_type": "execute_result"
    }
   ],
   "source": [
    "lower_ths = range(31, 40)  \n",
    "upper_ths = range(60, 70)  \n",
    "th_combs = list(product(lower_ths, upper_ths))  \n",
    "len(th_combs)"
   ]
  },
  {
   "cell_type": "code",
   "execution_count": 127,
   "id": "e7161241-8b12-495c-a370-f982e1030ed4",
   "metadata": {},
   "outputs": [],
   "source": [
    "comb_stats_2 = [\n",
    "test_rsi_2(lower_th=lower_th, upper_th=upper_th)\n",
    "    for lower_th, upper_th in th_combs\n",
    "]  "
   ]
  },
  {
   "cell_type": "code",
   "execution_count": 128,
   "id": "54e18641-996c-4594-bff3-4dcad361faee",
   "metadata": {},
   "outputs": [
    {
     "data": {
      "text/html": [
       "<div>\n",
       "<style scoped>\n",
       "    .dataframe tbody tr th:only-of-type {\n",
       "        vertical-align: middle;\n",
       "    }\n",
       "\n",
       "    .dataframe tbody tr th {\n",
       "        vertical-align: top;\n",
       "    }\n",
       "\n",
       "    .dataframe thead th {\n",
       "        text-align: right;\n",
       "    }\n",
       "</style>\n",
       "<table border=\"1\" class=\"dataframe\">\n",
       "  <thead>\n",
       "    <tr style=\"text-align: right;\">\n",
       "      <th></th>\n",
       "      <th>Total Return [%]</th>\n",
       "      <th>Total Trades</th>\n",
       "      <th>Win Rate [%]</th>\n",
       "      <th>Expectancy</th>\n",
       "    </tr>\n",
       "  </thead>\n",
       "  <tbody>\n",
       "    <tr>\n",
       "      <th>2</th>\n",
       "      <td>1.943060</td>\n",
       "      <td>7</td>\n",
       "      <td>50.000000</td>\n",
       "      <td>9.555504</td>\n",
       "    </tr>\n",
       "    <tr>\n",
       "      <th>10</th>\n",
       "      <td>2.192705</td>\n",
       "      <td>9</td>\n",
       "      <td>50.000000</td>\n",
       "      <td>8.660359</td>\n",
       "    </tr>\n",
       "    <tr>\n",
       "      <th>11</th>\n",
       "      <td>2.271876</td>\n",
       "      <td>9</td>\n",
       "      <td>50.000000</td>\n",
       "      <td>9.145437</td>\n",
       "    </tr>\n",
       "    <tr>\n",
       "      <th>12</th>\n",
       "      <td>2.626546</td>\n",
       "      <td>8</td>\n",
       "      <td>57.142857</td>\n",
       "      <td>12.955896</td>\n",
       "    </tr>\n",
       "    <tr>\n",
       "      <th>0</th>\n",
       "      <td>2.844723</td>\n",
       "      <td>7</td>\n",
       "      <td>66.666667</td>\n",
       "      <td>16.933351</td>\n",
       "    </tr>\n",
       "    <tr>\n",
       "      <th>...</th>\n",
       "      <td>...</td>\n",
       "      <td>...</td>\n",
       "      <td>...</td>\n",
       "      <td>...</td>\n",
       "    </tr>\n",
       "    <tr>\n",
       "      <th>66</th>\n",
       "      <td>7.801110</td>\n",
       "      <td>5</td>\n",
       "      <td>75.000000</td>\n",
       "      <td>86.479265</td>\n",
       "    </tr>\n",
       "    <tr>\n",
       "      <th>67</th>\n",
       "      <td>8.137638</td>\n",
       "      <td>5</td>\n",
       "      <td>75.000000</td>\n",
       "      <td>90.685875</td>\n",
       "    </tr>\n",
       "    <tr>\n",
       "      <th>76</th>\n",
       "      <td>8.261541</td>\n",
       "      <td>5</td>\n",
       "      <td>75.000000</td>\n",
       "      <td>92.234661</td>\n",
       "    </tr>\n",
       "    <tr>\n",
       "      <th>75</th>\n",
       "      <td>8.261541</td>\n",
       "      <td>5</td>\n",
       "      <td>75.000000</td>\n",
       "      <td>92.234661</td>\n",
       "    </tr>\n",
       "    <tr>\n",
       "      <th>77</th>\n",
       "      <td>8.596325</td>\n",
       "      <td>5</td>\n",
       "      <td>75.000000</td>\n",
       "      <td>96.419453</td>\n",
       "    </tr>\n",
       "  </tbody>\n",
       "</table>\n",
       "<p>90 rows × 4 columns</p>\n",
       "</div>"
      ],
      "text/plain": [
       "    Total Return [%]  Total Trades  Win Rate [%]  Expectancy\n",
       "2           1.943060             7     50.000000    9.555504\n",
       "10          2.192705             9     50.000000    8.660359\n",
       "11          2.271876             9     50.000000    9.145437\n",
       "12          2.626546             8     57.142857   12.955896\n",
       "0           2.844723             7     66.666667   16.933351\n",
       "..               ...           ...           ...         ...\n",
       "66          7.801110             5     75.000000   86.479265\n",
       "67          8.137638             5     75.000000   90.685875\n",
       "76          8.261541             5     75.000000   92.234661\n",
       "75          8.261541             5     75.000000   92.234661\n",
       "77          8.596325             5     75.000000   96.419453\n",
       "\n",
       "[90 rows x 4 columns]"
      ]
     },
     "execution_count": 128,
     "metadata": {},
     "output_type": "execute_result"
    }
   ],
   "source": [
    "comb_stats_2_df = pd.DataFrame(comb_stats_2)\n",
    "comb_stats_2_df.sort_values(['Total Return [%]'])"
   ]
  },
  {
   "cell_type": "code",
   "execution_count": 129,
   "id": "0959a5e3-cb71-4dbc-b0f4-1d4516bd4bff",
   "metadata": {},
   "outputs": [
    {
     "data": {
      "text/html": [
       "<div>\n",
       "<style scoped>\n",
       "    .dataframe tbody tr th:only-of-type {\n",
       "        vertical-align: middle;\n",
       "    }\n",
       "\n",
       "    .dataframe tbody tr th {\n",
       "        vertical-align: top;\n",
       "    }\n",
       "\n",
       "    .dataframe thead th {\n",
       "        text-align: right;\n",
       "    }\n",
       "</style>\n",
       "<table border=\"1\" class=\"dataframe\">\n",
       "  <thead>\n",
       "    <tr style=\"text-align: right;\">\n",
       "      <th></th>\n",
       "      <th></th>\n",
       "      <th>Total Return [%]</th>\n",
       "      <th>Total Trades</th>\n",
       "      <th>Win Rate [%]</th>\n",
       "      <th>Expectancy</th>\n",
       "    </tr>\n",
       "    <tr>\n",
       "      <th>lower_th</th>\n",
       "      <th>upper_th</th>\n",
       "      <th></th>\n",
       "      <th></th>\n",
       "      <th></th>\n",
       "      <th></th>\n",
       "    </tr>\n",
       "  </thead>\n",
       "  <tbody>\n",
       "    <tr>\n",
       "      <th>31</th>\n",
       "      <th>62</th>\n",
       "      <td>1.943060</td>\n",
       "      <td>7</td>\n",
       "      <td>50.000000</td>\n",
       "      <td>9.555504</td>\n",
       "    </tr>\n",
       "    <tr>\n",
       "      <th rowspan=\"3\" valign=\"top\">32</th>\n",
       "      <th>60</th>\n",
       "      <td>2.192705</td>\n",
       "      <td>9</td>\n",
       "      <td>50.000000</td>\n",
       "      <td>8.660359</td>\n",
       "    </tr>\n",
       "    <tr>\n",
       "      <th>61</th>\n",
       "      <td>2.271876</td>\n",
       "      <td>9</td>\n",
       "      <td>50.000000</td>\n",
       "      <td>9.145437</td>\n",
       "    </tr>\n",
       "    <tr>\n",
       "      <th>62</th>\n",
       "      <td>2.626546</td>\n",
       "      <td>8</td>\n",
       "      <td>57.142857</td>\n",
       "      <td>12.955896</td>\n",
       "    </tr>\n",
       "    <tr>\n",
       "      <th>31</th>\n",
       "      <th>60</th>\n",
       "      <td>2.844723</td>\n",
       "      <td>7</td>\n",
       "      <td>66.666667</td>\n",
       "      <td>16.933351</td>\n",
       "    </tr>\n",
       "    <tr>\n",
       "      <th>...</th>\n",
       "      <th>...</th>\n",
       "      <td>...</td>\n",
       "      <td>...</td>\n",
       "      <td>...</td>\n",
       "      <td>...</td>\n",
       "    </tr>\n",
       "    <tr>\n",
       "      <th rowspan=\"2\" valign=\"top\">37</th>\n",
       "      <th>66</th>\n",
       "      <td>7.801110</td>\n",
       "      <td>5</td>\n",
       "      <td>75.000000</td>\n",
       "      <td>86.479265</td>\n",
       "    </tr>\n",
       "    <tr>\n",
       "      <th>67</th>\n",
       "      <td>8.137638</td>\n",
       "      <td>5</td>\n",
       "      <td>75.000000</td>\n",
       "      <td>90.685875</td>\n",
       "    </tr>\n",
       "    <tr>\n",
       "      <th rowspan=\"3\" valign=\"top\">38</th>\n",
       "      <th>66</th>\n",
       "      <td>8.261541</td>\n",
       "      <td>5</td>\n",
       "      <td>75.000000</td>\n",
       "      <td>92.234661</td>\n",
       "    </tr>\n",
       "    <tr>\n",
       "      <th>65</th>\n",
       "      <td>8.261541</td>\n",
       "      <td>5</td>\n",
       "      <td>75.000000</td>\n",
       "      <td>92.234661</td>\n",
       "    </tr>\n",
       "    <tr>\n",
       "      <th>67</th>\n",
       "      <td>8.596325</td>\n",
       "      <td>5</td>\n",
       "      <td>75.000000</td>\n",
       "      <td>96.419453</td>\n",
       "    </tr>\n",
       "  </tbody>\n",
       "</table>\n",
       "<p>90 rows × 4 columns</p>\n",
       "</div>"
      ],
      "text/plain": [
       "                   Total Return [%]  Total Trades  Win Rate [%]  Expectancy\n",
       "lower_th upper_th                                                          \n",
       "31       62                1.943060             7     50.000000    9.555504\n",
       "32       60                2.192705             9     50.000000    8.660359\n",
       "         61                2.271876             9     50.000000    9.145437\n",
       "         62                2.626546             8     57.142857   12.955896\n",
       "31       60                2.844723             7     66.666667   16.933351\n",
       "...                             ...           ...           ...         ...\n",
       "37       66                7.801110             5     75.000000   86.479265\n",
       "         67                8.137638             5     75.000000   90.685875\n",
       "38       66                8.261541             5     75.000000   92.234661\n",
       "         65                8.261541             5     75.000000   92.234661\n",
       "         67                8.596325             5     75.000000   96.419453\n",
       "\n",
       "[90 rows x 4 columns]"
      ]
     },
     "execution_count": 129,
     "metadata": {},
     "output_type": "execute_result"
    }
   ],
   "source": [
    "comb_stats_2_df.index = pd.MultiIndex.from_tuples(\n",
    "    th_combs,\n",
    "    names=['lower_th', 'upper_th'])\n",
    "comb_stats_2_df.sort_values(['Total Return [%]'])"
   ]
  },
  {
   "cell_type": "code",
   "execution_count": 130,
   "id": "8aa457dc-fc76-405d-95b5-55527be2aec5",
   "metadata": {},
   "outputs": [
    {
     "data": {
      "text/plain": [
       "Total Return [%]     8.596325\n",
       "Total Trades                5\n",
       "Win Rate [%]             75.0\n",
       "Expectancy          96.419453\n",
       "dtype: object"
      ]
     },
     "execution_count": 130,
     "metadata": {},
     "output_type": "execute_result"
    }
   ],
   "source": [
    "test_rsi_2(lower_th=38, upper_th=67)"
   ]
  },
  {
   "cell_type": "code",
   "execution_count": 131,
   "id": "6f84f37e-9260-4483-9884-0fa9dd125447",
   "metadata": {},
   "outputs": [
    {
     "data": {
      "application/vnd.jupyter.widget-view+json": {
       "model_id": "56ed2df0ee1740bda65bd5b23e3f49a9",
       "version_major": 2,
       "version_minor": 0
      },
      "text/plain": [
       "FigureWidget({\n",
       "    'data': [{'legendgroup': '0',\n",
       "              'line': {'color': '#1f77b4'},\n",
       "              'mo…"
      ]
     },
     "metadata": {},
     "output_type": "display_data"
    }
   ],
   "source": [
    "portfolio_sqqq_2.plot(settings=dict(bm_returns=False))"
   ]
  },
  {
   "cell_type": "code",
   "execution_count": 132,
   "id": "6da88b86-ebef-4b46-9fb2-12e053091ad2",
   "metadata": {},
   "outputs": [
    {
     "data": {
      "application/vnd.jupyter.widget-view+json": {
       "model_id": "ddb3644f0fba47fe9a0e852af3297d1a",
       "version_major": 2,
       "version_minor": 0
      },
      "text/plain": [
       "FigureWidget({\n",
       "    'data': [{'colorscale': [[0.0, '#0d0887'], [0.1111111111111111, '#46039f'],\n",
       "               …"
      ]
     },
     "metadata": {},
     "output_type": "display_data"
    }
   ],
   "source": [
    "comb_stats_2_df['Total Return [%]'].vbt.heatmap()"
   ]
  },
  {
   "cell_type": "code",
   "execution_count": 134,
   "id": "2b00377e-207c-4456-87ef-bcbdb299ec36",
   "metadata": {},
   "outputs": [
    {
     "data": {
      "application/vnd.jupyter.widget-view+json": {
       "model_id": "4361e9a6b6bb4baf99b85913c8f9a930",
       "version_major": 2,
       "version_minor": 0
      },
      "text/plain": [
       "  0%|          | 0/3 [00:00<?, ?it/s]"
      ]
     },
     "metadata": {},
     "output_type": "display_data"
    },
    {
     "name": "stderr",
     "output_type": "stream",
     "text": [
      "/Users/mikecutno/opt/anaconda3/envs/dev/lib/python3.9/site-packages/vectorbtpro/data/base.py:597: UserWarning:\n",
      "\n",
      "Symbols have mismatching index. Setting missing data points to NaN.\n",
      "\n"
     ]
    }
   ],
   "source": [
    "data_3 = vbt.AlpacaData.fetch(\n",
    "    ['SQQQ','QQQ','TQQQ'],\n",
    "    start=\"2022-10-04 UTC\",\n",
    "    end=\"2022-10-05 UTC\",\n",
    "    timeframe=\"1 minute\"\n",
    ")\n",
    "\n"
   ]
  },
  {
   "cell_type": "code",
   "execution_count": 135,
   "id": "6884b35f-a31d-4c34-bceb-06070cdcd6aa",
   "metadata": {},
   "outputs": [
    {
     "data": {
      "application/vnd.jupyter.widget-view+json": {
       "model_id": "9f7d279ce4064bdcba91ec6e70ae2535",
       "version_major": 2,
       "version_minor": 0
      },
      "text/plain": [
       "FigureWidget({\n",
       "    'data': [{'close': array([  nan,   nan,   nan, ..., 51.91, 51.89, 51.87]),\n",
       "              'd…"
      ]
     },
     "metadata": {},
     "output_type": "display_data"
    }
   ],
   "source": [
    "data_3.data['SQQQ'].vbt.ohlcv.plot()"
   ]
  },
  {
   "cell_type": "code",
   "execution_count": null,
   "id": "b4f8fd4f-41a9-41e8-864d-2372033c23f5",
   "metadata": {},
   "outputs": [],
   "source": [
    "#market_order_data_buy = MarketOrderRequest(\n",
    "                    #symbol=\"SQQQ\",\n",
    "                    #qty=71,\n",
    "                    #side=OrderSide.BUY,\n",
    "                    #time_in_force=TimeInForce.DAY\n",
    "                    #)"
   ]
  },
  {
   "cell_type": "code",
   "execution_count": null,
   "id": "ab445ce0-f998-4167-811d-d5ab49e43031",
   "metadata": {},
   "outputs": [],
   "source": [
    "#market_order_data = MarketOrderRequest(\n",
    "                    #symbol=\"SPY\",\n",
    "                    #qty=15,\n",
    "                    #side=OrderSide.BUY,\n",
    "                    #time_in_force=TimeInForce.DAY\n",
    "                    #)"
   ]
  },
  {
   "cell_type": "code",
   "execution_count": null,
   "id": "3d5e496d-de98-4d17-a5c1-3921d3d6b994",
   "metadata": {},
   "outputs": [],
   "source": []
  },
  {
   "cell_type": "code",
   "execution_count": null,
   "id": "3a9fd5e7-8049-47e9-aa73-1cb57e9ed6b2",
   "metadata": {},
   "outputs": [],
   "source": [
    "#market_order = trading_client.submit_order(\n",
    "                #order_data=market_order_data\n",
    "               #)"
   ]
  },
  {
   "cell_type": "code",
   "execution_count": null,
   "id": "40096ad4-a6af-4a21-b105-d9ad7e53575b",
   "metadata": {},
   "outputs": [],
   "source": [
    "#market_order_data_sell = MarketOrderRequest(\n",
    "                    #symbol=\"SQQQ\",\n",
    "                    #qty=71,\n",
    "                    #side=OrderSide.SELL,\n",
    "                    #time_in_force=TimeInForce.DAY"
   ]
  },
  {
   "cell_type": "code",
   "execution_count": null,
   "id": "55be5325-cfc6-4bef-ab3d-7663efb147d6",
   "metadata": {},
   "outputs": [],
   "source": []
  },
  {
   "cell_type": "markdown",
   "id": "700e597f-f220-46dd-9cd0-77c9e00a3429",
   "metadata": {},
   "source": []
  }
 ],
 "metadata": {
  "kernelspec": {
   "display_name": "Python 3 (ipykernel)",
   "language": "python",
   "name": "python3"
  },
  "language_info": {
   "codemirror_mode": {
    "name": "ipython",
    "version": 3
   },
   "file_extension": ".py",
   "mimetype": "text/x-python",
   "name": "python",
   "nbconvert_exporter": "python",
   "pygments_lexer": "ipython3",
   "version": "3.9.13"
  }
 },
 "nbformat": 4,
 "nbformat_minor": 5
}
